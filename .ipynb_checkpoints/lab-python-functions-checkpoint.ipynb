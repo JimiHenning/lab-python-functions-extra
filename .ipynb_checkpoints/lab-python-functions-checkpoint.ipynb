{
 "cells": [
  {
   "cell_type": "markdown",
   "id": "25d7736c-ba17-4aff-b6bb-66eba20fbf4e",
   "metadata": {},
   "source": [
    "# Lab | Functions"
   ]
  },
  {
   "cell_type": "markdown",
   "id": "6f8e446f-16b4-4e21-92e7-9d3d1eb551b6",
   "metadata": {},
   "source": [
    "Objective: Practice how to define and call functions, pass arguments, return values, and handle scope. "
   ]
  },
  {
   "cell_type": "markdown",
   "id": "e253e768-aed8-4791-a800-87add1204afa",
   "metadata": {},
   "source": [
    "## Challenge 1: completing functions based on docstring\n",
    "\n",
    "Complete the functions below according to the docstring, and test them by calling them to make sure they are well implemented."
   ]
  },
  {
   "cell_type": "code",
   "execution_count": 6,
   "id": "df908bed-acc6-4b67-b33a-f3b1c564a49f",
   "metadata": {},
   "outputs": [],
   "source": [
    "def get_unique_list(lst):\n",
    "    \"\"\"\n",
    "    Takes a list as an argument and returns a new list with unique elements from the first list.\n",
    "\n",
    "    Parameters:\n",
    "    lst (list): The input list.\n",
    "\n",
    "    Returns:\n",
    "    list: A new list with unique elements from the input list.\n",
    "    \"\"\"\n",
    "    # your code goes here\n",
    "    set_lst = set(lst)\n",
    "    new_lst = list(set_lst)\n",
    "    return (new_lst)\n",
    "\n"
   ]
  },
  {
   "cell_type": "code",
   "execution_count": 8,
   "id": "ee11dbfb-c773-4d35-ab4f-4b4a644b03c8",
   "metadata": {},
   "outputs": [],
   "source": [
    "lst1 = [1,2,3,4,4,4,55,6,7,8,7,7,8,8,9]\n",
    "new_lst1 = get_unique_list(lst1)"
   ]
  },
  {
   "cell_type": "code",
   "execution_count": 10,
   "id": "9df4d54d-b099-4288-a5b5-7f416fec61fb",
   "metadata": {},
   "outputs": [
    {
     "name": "stdout",
     "output_type": "stream",
     "text": [
      "[1, 2, 3, 4, 6, 7, 8, 9, 55]\n"
     ]
    }
   ],
   "source": [
    "print (new_lst1)"
   ]
  },
  {
   "cell_type": "markdown",
   "id": "214c2c27-c4fa-46cf-bfbf-26fb25b25882",
   "metadata": {},
   "source": [
    "Example:\n",
    "\n",
    "*Input [1,2,3,3,3,3,4,5] -> type: list*\n",
    "\n",
    "*Expected Output [1,2,3,4,5] -> type: list*"
   ]
  },
  {
   "cell_type": "code",
   "execution_count": 13,
   "id": "0c2df734-0760-4f3f-812e-34fe0dba33c4",
   "metadata": {},
   "outputs": [],
   "source": [
    "def count_case(strng):\n",
    "    \"\"\"\n",
    "    Returns the number of uppercase and lowercase letters in the given string.\n",
    "\n",
    "    Parameters:\n",
    "    string (str): The string to count uppercase and lowercase letters in.\n",
    "\n",
    "    Returns:\n",
    "    A tuple containing the count of uppercase and lowercase letters in the string.\n",
    "    \"\"\"\n",
    "    # your code goes here\n",
    "    import string\n",
    "    string_nopunct_nospace = strng.translate(str.maketrans('', '', string.punctuation)).replace(\" \",\"\")\n",
    "    upper_count = 0\n",
    "    lower_count = 0\n",
    "    for char in string_nopunct_nospace:\n",
    "        if char.isupper() == True:\n",
    "            upper_count += 1\n",
    "        else:\n",
    "            lower_count += 1\n",
    "\n",
    "    return (upper_count, lower_count)"
   ]
  },
  {
   "cell_type": "code",
   "execution_count": 15,
   "id": "f240247d-1f5d-4c14-a234-a49bbcb25e8b",
   "metadata": {},
   "outputs": [
    {
     "name": "stdout",
     "output_type": "stream",
     "text": [
      "Uppercase letters: 2\n",
      "Lowercase letters: 8\n"
     ]
    }
   ],
   "source": [
    "result = count_case(\"Hello, World!\")\n",
    "print(\"Uppercase letters:\", result[0])\n",
    "print(\"Lowercase letters:\", result[1])"
   ]
  },
  {
   "cell_type": "markdown",
   "id": "2c902b2e-369c-4a40-a166-ca5bc554cab3",
   "metadata": {},
   "source": [
    "Example:\n",
    "\n",
    "*Input: \"Hello World\"* \n",
    "\n",
    "*Expected Output: Uppercase count: 2, Lowercase count: 8* "
   ]
  },
  {
   "cell_type": "code",
   "execution_count": 18,
   "id": "c15b91d4-cfd6-423b-9f36-76012b8792b8",
   "metadata": {},
   "outputs": [],
   "source": [
    "import string\n",
    "\n",
    "def remove_punctuation(sentence):\n",
    "    \"\"\"\n",
    "    Removes all punctuation marks (commas, periods, exclamation marks, question marks) from a sentence.\n",
    "\n",
    "    Parameters:\n",
    "    sentence (str): A string representing a sentence.\n",
    "\n",
    "    Returns:\n",
    "    str: The sentence without any punctuation marks.\n",
    "    \"\"\"\n",
    "    # your code goes here\n",
    "    import string\n",
    "    sentence_nopunct = sentence.translate(str.maketrans('', '', string.punctuation))\n",
    "    return sentence_nopunct\n",
    "\n"
   ]
  },
  {
   "cell_type": "code",
   "execution_count": 20,
   "id": "d3b6d5ab-c494-4013-9e0f-5fe7bc758399",
   "metadata": {},
   "outputs": [
    {
     "data": {
      "text/plain": [
       "'Hello World'"
      ]
     },
     "execution_count": 20,
     "metadata": {},
     "output_type": "execute_result"
    }
   ],
   "source": [
    "remove_punctuation(\"Hello, World!\")"
   ]
  },
  {
   "cell_type": "code",
   "execution_count": 131,
   "id": "074d2ec7-933e-4fad-b27a-f5c6bdfd6d77",
   "metadata": {},
   "outputs": [],
   "source": [
    "def word_count_f(sentence):\n",
    "    \"\"\"\n",
    "    Counts the number of words in a given sentence. To do this properly, first it removes punctuation from the sentence.\n",
    "    Note: A word is defined as a sequence of characters separated by spaces. We can assume that there will be no leading or trailing spaces in the input\n",
    "    sentence.\n",
    "    \n",
    "    Parameters:\n",
    "    sentence (str): A string representing a sentence.\n",
    "\n",
    "    Returns:\n",
    "    int: The number of words in the sentence.\n",
    "    \"\"\"\n",
    "    # your code goes here\n",
    "    import string\n",
    "    sentence_np = sentence.translate(str.maketrans('', '', string.punctuation))\n",
    "    word_list = sentence_np.split()\n",
    "    count = len(word_list)\n",
    "    return count"
   ]
  },
  {
   "cell_type": "markdown",
   "id": "52814e4d-7631-4c80-80b6-2b206f7e7419",
   "metadata": {},
   "source": [
    "*For example, calling*\n",
    "```python \n",
    "word_count(\"Note : this is an example !!! Good day : )\")\n",
    "``` \n",
    "\n",
    "*would give you as expected output: 7*"
   ]
  },
  {
   "cell_type": "code",
   "execution_count": 135,
   "id": "f7cfd32a-f559-47ff-81c1-2576bd4fe3bf",
   "metadata": {},
   "outputs": [
    {
     "name": "stdout",
     "output_type": "stream",
     "text": [
      "The number of words in the sentence is: 9\n",
      "Uppercase letters: 2\n",
      "Lowercase letters: 28\n"
     ]
    }
   ],
   "source": [
    "# your code goes here\n",
    "sentence = \"Note : this is an example !!! Good day : yo, hi )\"\n",
    "wc = word_count(sentence)\n",
    "\n",
    "Upper_lower_sentence = count_case(sentence)\n",
    "\n",
    "print(\"The number of words in the sentence is:\", wc)\n",
    "print(\"Uppercase letters:\", Upper_lower_sentence[0])\n",
    "print(\"Lowercase letters:\", Upper_lower_sentence[1])"
   ]
  },
  {
   "cell_type": "markdown",
   "id": "fb01ccba-2ecc-4eea-b9a9-2bf9d29e8804",
   "metadata": {},
   "source": [
    "## Challenge 2: Build a Calculator\n",
    "\n",
    "In this exercise, you will build a calculator using Python functions. The calculator will be able to perform basic arithmetic operations like addition, subtraction, multiplication, and division.\n",
    "\n",
    "Instructions\n",
    "- Define four functions for addition, subtraction, multiplication, and division.\n",
    "- Each function should take two arguments, perform the respective arithmetic operation, and return the result.\n",
    "- Define another function called \"calculate\" that takes three arguments: two operands and an operator.\n",
    "- The \"calculate\" function should use a conditional statement to determine which arithmetic function to call based on the operator argument.\n",
    "- The \"calculate\" function should then call the appropriate arithmetic function and return the result.\n",
    "- Test your \"calculate\" function by calling it with different input parameters.\n"
   ]
  },
  {
   "cell_type": "code",
   "execution_count": 196,
   "id": "57f9afc7-8626-443c-9c3e-eb78ef503193",
   "metadata": {},
   "outputs": [],
   "source": [
    "# your code goes here\n",
    "def addition (num1,num2):\n",
    "    \"\"\"\n",
    "    This function takes two numerical values as parameters\n",
    "    and will add them together.\n",
    "    \"\"\"\n",
    "    result = num1 + num2\n",
    "    return result\n",
    "    \n",
    "\n",
    "def subtraction (num1,num2):\n",
    "    \"\"\"\n",
    "    This function takes two numerical valuess as parameters\n",
    "    and will subtract the second from the first one.\n",
    "    \"\"\"\n",
    "    result = num1 - num2\n",
    "    return result\n",
    "\n",
    "def multiplication (num1,num2):\n",
    "    \"\"\"\n",
    "    This function takes two numerical values as parameters\n",
    "    and will multiply them.\n",
    "    \"\"\"\n",
    "    result = num1 * num2\n",
    "    return result\n",
    "\n",
    "def division (num1,num2):\n",
    "    \"\"\"\n",
    "    This function takes two numerical values as parameters\n",
    "    and will divide the first by the second one.\n",
    "    \"\"\"\n",
    "    result = num1/num2\n",
    "    return result\n"
   ]
  },
  {
   "cell_type": "code",
   "execution_count": 194,
   "id": "38d51fe2-5bb0-4dad-8a3b-db58046200e9",
   "metadata": {},
   "outputs": [
    {
     "data": {
      "text/plain": [
       "6"
      ]
     },
     "execution_count": 194,
     "metadata": {},
     "output_type": "execute_result"
    }
   ],
   "source": [
    "addition(2,4)"
   ]
  },
  {
   "cell_type": "code",
   "execution_count": 198,
   "id": "c8c3f252-63f0-4d31-8a10-345556de6303",
   "metadata": {},
   "outputs": [
    {
     "data": {
      "text/plain": [
       "-2"
      ]
     },
     "execution_count": 198,
     "metadata": {},
     "output_type": "execute_result"
    }
   ],
   "source": [
    "subtraction(2,4)"
   ]
  },
  {
   "cell_type": "code",
   "execution_count": 202,
   "id": "ea0358dd-6bc3-44e2-916e-8aa56625e662",
   "metadata": {},
   "outputs": [
    {
     "data": {
      "text/plain": [
       "8"
      ]
     },
     "execution_count": 202,
     "metadata": {},
     "output_type": "execute_result"
    }
   ],
   "source": [
    "multiplication(2,4)"
   ]
  },
  {
   "cell_type": "code",
   "execution_count": 204,
   "id": "96e27918-47b8-41a5-a4dd-f725aea4014e",
   "metadata": {},
   "outputs": [
    {
     "data": {
      "text/plain": [
       "0.5"
      ]
     },
     "execution_count": 204,
     "metadata": {},
     "output_type": "execute_result"
    }
   ],
   "source": [
    "division(2,4)"
   ]
  },
  {
   "cell_type": "code",
   "execution_count": 252,
   "id": "efec83d8-87df-4c4c-91b4-6aa44230f5ce",
   "metadata": {},
   "outputs": [],
   "source": [
    "def calculate (num1,num2,operator):\n",
    "    \"\"\"\n",
    "    This function takes two numerical values and an arithmetic operator\n",
    "    and performs the corresponding arithemtic operation on the values.\n",
    "    \"\"\"\n",
    "    try:\n",
    "        if operator == \"+\":\n",
    "            result = num1 + num2\n",
    "        elif operator == \"-\":\n",
    "            result = num1 - num2\n",
    "        elif operator == \"*\":\n",
    "            result = num1 * num2\n",
    "        elif operator == \"/\":\n",
    "            result = num1 / num2\n",
    "        return result\n",
    "    except:\n",
    "        print(\"Not a valid operation!\")\n",
    "\n"
   ]
  },
  {
   "cell_type": "code",
   "execution_count": 262,
   "id": "1429a975-d611-44bb-b84d-20935205241c",
   "metadata": {},
   "outputs": [
    {
     "data": {
      "text/plain": [
       "7"
      ]
     },
     "execution_count": 262,
     "metadata": {},
     "output_type": "execute_result"
    }
   ],
   "source": [
    "calculate(2,5,\"+\")"
   ]
  },
  {
   "cell_type": "code",
   "execution_count": null,
   "id": "c2cf34bc-243f-4438-9a8c-bdc72c103b8e",
   "metadata": {},
   "outputs": [],
   "source": []
  },
  {
   "cell_type": "markdown",
   "id": "d1784c63-208c-4553-9686-acac6c0a9dda",
   "metadata": {},
   "source": [
    "### Bonus: args and kwargs\n",
    "\n",
    "Update the previous exercise so it allows for adding, subtracting, and multiplying more than 2 numbers.\n",
    "\n",
    "The calculator will be able to perform basic arithmetic operations like addition, subtraction, multiplication, and division on multiple numbers.\n",
    "\n",
    "*Hint: use args or kwargs. Recommended external resource: [Args and Kwargs in Python](https://www.geeksforgeeks.org/args-kwargs-python/)*"
   ]
  },
  {
   "cell_type": "code",
   "execution_count": 372,
   "id": "ff3e816c-13ab-447d-a6f2-bb47a8fad2e2",
   "metadata": {},
   "outputs": [],
   "source": [
    "# your code goes here\n",
    "def calculate_args (operator,*args):\n",
    "    \"\"\"\n",
    "    This function takes numerical values and an arithmetic operator\n",
    "    and performs the corresponding arithemtic operation on the values.\n",
    "    \"\"\"\n",
    "    result = 0\n",
    "    try:\n",
    "        for arg in args:\n",
    "            if operator == \"+\":\n",
    "                result += arg\n",
    "            elif operator == \"-\":\n",
    "                result = args[0]\n",
    "                for i in range (1,len(args)):\n",
    "                    result -= args[i]\n",
    "            elif operator == \"*\":\n",
    "                result = args[0]\n",
    "                for i in range (1, len(args)):\n",
    "                    result *= args[i]\n",
    "            elif operator == \"/\":\n",
    "                result = args[0]\n",
    "                for i in range (1, len(args)):\n",
    "                    result /= args[i]\n",
    "        return result\n",
    "    \n",
    "    except:\n",
    "        print(\"Not a valid operation!\")\n"
   ]
  },
  {
   "cell_type": "code",
   "execution_count": 380,
   "id": "84d328a3-a186-45af-badb-2a776cd72444",
   "metadata": {},
   "outputs": [
    {
     "data": {
      "text/plain": [
       "17"
      ]
     },
     "execution_count": 380,
     "metadata": {},
     "output_type": "execute_result"
    }
   ],
   "source": [
    "calculate_args(\"+\",12,2,3)"
   ]
  },
  {
   "cell_type": "code",
   "execution_count": 29,
   "id": "a162ebd9-6108-42e9-90c7-bec5f8907cea",
   "metadata": {},
   "outputs": [],
   "source": [
    "# your code goes here\n",
    "def calculate_args (operator,*args):\n",
    "    \"\"\"\n",
    "    This function takes numerical values and an arithmetic operator\n",
    "    and performs the corresponding arithemtic operation on the values.\n",
    "    \"\"\"\n",
    "    if len(args) == 0:\n",
    "        return \"No numbers provided!\"\n",
    "        \n",
    "    try:\n",
    "            if operator == \"+\":\n",
    "                result = 0\n",
    "                for arg in args:\n",
    "                    result += arg\n",
    "            elif operator == \"-\":\n",
    "                result = args[0]\n",
    "                for i in range (1,len(args)):\n",
    "                    result -= args[i]\n",
    "            elif operator == \"*\":\n",
    "                result = args[0]\n",
    "                for i in range (1, len(args)):\n",
    "                    result *= args[i]\n",
    "            elif operator == \"/\":\n",
    "                result = args[0]\n",
    "                for i in range (1, len(args)):\n",
    "                    if args[i] == 0:\n",
    "                        return \"Error: Division by zero!\"\n",
    "                    result /= args[i]\n",
    "            else:\n",
    "                return \"Invalid operator!\"\n",
    "                \n",
    "            return result\n",
    "    \n",
    "    except Exception as e:\n",
    "        return f\"Error: {e}\""
   ]
  },
  {
   "cell_type": "code",
   "execution_count": 33,
   "id": "997f6079-e624-4c70-a3e9-4e5bc3a59826",
   "metadata": {},
   "outputs": [
    {
     "data": {
      "text/plain": [
       "2.0"
      ]
     },
     "execution_count": 33,
     "metadata": {},
     "output_type": "execute_result"
    }
   ],
   "source": [
    "calculate_args(\"/\",40,4,5)"
   ]
  },
  {
   "cell_type": "code",
   "execution_count": 35,
   "id": "1e4f502f-c7ee-44a4-8f0a-6c7e795e072c",
   "metadata": {},
   "outputs": [
    {
     "name": "stdout",
     "output_type": "stream",
     "text": [
      "C:\\Users\\JimiH\\IRON HACK\\WEEK 1\\lab-python-functions-extra\n"
     ]
    }
   ],
   "source": [
    "import os\n",
    "\n",
    "notebook_path = os.getcwd()\n",
    "print(notebook_path)"
   ]
  },
  {
   "cell_type": "markdown",
   "id": "af2de734-2a0e-4458-9cb8-57284b7108ae",
   "metadata": {},
   "source": [
    "## Challenge 3: importing functions from a Python file"
   ]
  },
  {
   "cell_type": "markdown",
   "id": "56780ce8-6610-4fb5-a4ef-22cd46af83d2",
   "metadata": {},
   "source": [
    "Moving the functions created in Challenge 1 to a Python file.\n",
    "\n",
    "- In the same directory as your Jupyter Notebook, create a new Python file called `functions.py`.\n",
    "- Copy and paste the functions you created earlier in the Jupyter Notebook into the functions.py file. Rename the functions to `get_unique_list_f, count_case_f, remove_punctuation_f, word_count_f`. Add the _f suffix to each function name to ensure that you're calling the functions from your file.\n",
    "- Save the `functions.py` file and switch back to the Jupyter Notebook.\n",
    "- In a new cell, import the functions from functions.py\n",
    "- Call each function with some sample input to test that they're working properly.\n",
    "\n",
    "There are several ways to import functions from a Python module such as functions.py to a Jupyter Notebook:\n",
    "\n",
    "1. Importing specific functions: If you only need to use a few functions from the module, you can import them individually using the from keyword. This way, you can call the functions directly using their names, without having to use the module name. For example:\n",
    "\n",
    "```python\n",
    "from function_file import function_name\n",
    "\n",
    "function_name(arguments)```\n",
    "\n",
    "2. Importing the entire module: You can import the entire module using the import keyword followed by the name of the module. Then, you can call the functions using the module_name.function_name() syntax. Example:\n",
    "\n",
    "```python\n",
    "import function_file\n",
    "\n",
    "function_file.function_name()\n",
    "```\n",
    "\n",
    "3. Renaming functions during import: You can also rename functions during import using the as keyword. This is useful if you want to use a shorter or more descriptive name for the function in your code. For example:\n",
    "\n",
    "```python\n",
    "from function_file import function_name as f\n",
    "\n",
    "f.function_name(arguments)\n",
    "```\n",
    "\n",
    "Regardless of which method you choose, make sure that the functions.py file is in the same directory as your Jupyter Notebook, or else specify the path to the file in the import statement or by using `sys.path`.\n",
    "\n",
    "You can find examples on how to import Python files into jupyter notebook here: \n",
    "- https://medium.com/cold-brew-code/a-quick-guide-to-understanding-pythons-import-statement-505eea2d601f\n",
    "- https://www.geeksforgeeks.org/absolute-and-relative-imports-in-python/\n",
    "- https://www.pythonforthelab.com/blog/complete-guide-to-imports-in-python-absolute-relative-and-more/\n",
    "\n"
   ]
  },
  {
   "cell_type": "markdown",
   "id": "14f222c5-e7bb-4626-b45c-bd735001f768",
   "metadata": {},
   "source": [
    "To ensure that any changes made to the Python file are reflected in the Jupyter Notebook upon import, we need to use an IPython extension that allows for automatic reloading of modules. Without this extension, changes made to the file won't be reloaded or refreshed in the notebook upon import.\n",
    "\n",
    "For that, we will include the following code:\n",
    "```python\n",
    "%load_ext autoreload\n",
    "%autoreload 2 \n",
    "```\n",
    "\n",
    "You can read more about this here: https://ipython.readthedocs.io/en/stable/config/extensions/autoreload.html"
   ]
  },
  {
   "cell_type": "code",
   "execution_count": 97,
   "id": "5832ecfe-c652-418d-8fbc-bac4b1166b40",
   "metadata": {},
   "outputs": [
    {
     "name": "stdout",
     "output_type": "stream",
     "text": [
      "The autoreload extension is already loaded. To reload it, use:\n",
      "  %reload_ext autoreload\n"
     ]
    }
   ],
   "source": [
    "# IPython extension to reload modules before executing user code.\n",
    "%load_ext autoreload\n",
    "%autoreload 2 \n",
    "\n"
   ]
  },
  {
   "cell_type": "code",
   "execution_count": 99,
   "id": "5e975a86-d354-4ec5-a9de-807df8a6d746",
   "metadata": {},
   "outputs": [
    {
     "data": {
      "text/plain": [
       "[2, 3, 5, 6, 7, 435]"
      ]
     },
     "execution_count": 99,
     "metadata": {},
     "output_type": "execute_result"
    }
   ],
   "source": [
    "# your code goes here\n",
    "import functions\n",
    "\n",
    "lst3 = [2,3,435,5,6,6,6,6,6,6,7]\n",
    "\n",
    "functions.get_unique_list_f(lst3)"
   ]
  },
  {
   "cell_type": "code",
   "execution_count": 127,
   "id": "264424bc-144d-4703-9509-b0c93ab947c4",
   "metadata": {},
   "outputs": [],
   "source": [
    "from functions import get_unique_list_f as ulf\n",
    "from functions import count_case_f as ccf\n",
    "from functions import remove_punctuation_f as rpf\n",
    "from functions import word_count_f as wcf"
   ]
  },
  {
   "cell_type": "code",
   "execution_count": 103,
   "id": "f4f42788-f8a3-4856-9870-2b4881358905",
   "metadata": {},
   "outputs": [
    {
     "data": {
      "text/plain": [
       "[2, 3, 5, 6, 7, 435]"
      ]
     },
     "execution_count": 103,
     "metadata": {},
     "output_type": "execute_result"
    }
   ],
   "source": [
    "ulf(lst3)"
   ]
  },
  {
   "cell_type": "code",
   "execution_count": 105,
   "id": "f212bbb6-0f59-4534-9440-b5c7f15b8c22",
   "metadata": {},
   "outputs": [],
   "source": [
    "str1 = \"Hello, PLEASE count THis!\""
   ]
  },
  {
   "cell_type": "code",
   "execution_count": 107,
   "id": "8bc20e97-1277-4252-82ff-e6715043a1ab",
   "metadata": {},
   "outputs": [
    {
     "data": {
      "text/plain": [
       "(9, 11)"
      ]
     },
     "execution_count": 107,
     "metadata": {},
     "output_type": "execute_result"
    }
   ],
   "source": [
    "ccf(str1)"
   ]
  },
  {
   "cell_type": "code",
   "execution_count": 109,
   "id": "c3c12b24-92a8-44f2-8ac2-901aec4a4d73",
   "metadata": {},
   "outputs": [
    {
     "data": {
      "text/plain": [
       "'Hello PLEASE count THis'"
      ]
     },
     "execution_count": 109,
     "metadata": {},
     "output_type": "execute_result"
    }
   ],
   "source": [
    "rpf(str1)"
   ]
  },
  {
   "cell_type": "code",
   "execution_count": 137,
   "id": "24ab9c18-76af-412a-adb5-1ca1cbd6970b",
   "metadata": {},
   "outputs": [
    {
     "data": {
      "text/plain": [
       "4"
      ]
     },
     "execution_count": 137,
     "metadata": {},
     "output_type": "execute_result"
    }
   ],
   "source": [
    "wcf(str1)"
   ]
  },
  {
   "cell_type": "markdown",
   "id": "06d0eb13-8dcb-4783-8f74-8f71beb2d0b4",
   "metadata": {},
   "source": [
    "## Bonus: recursive functions\n",
    "\n",
    "The Fibonacci sequence is a mathematical sequence that appears in various fields, including nature, finance, and computer science. It starts with 0 and 1, and each subsequent number is the sum of the two preceding numbers. The sequence goes like this: 0, 1, 1, 2, 3, 5, 8, 13, 21, 34, and so on.\n",
    "\n",
    "Write a Python function that uses recursion to compute the Fibonacci sequence up to a given number n.\n",
    "\n",
    "To accomplish this, create a function that calculates the Fibonacci number for a given input. For example, the 10th Fibonacci number is 55.\n",
    "Then create another function that generates a list of Fibonacci numbers from 0 to n.\n",
    "Test your function by calling it with different input parameters."
   ]
  },
  {
   "cell_type": "markdown",
   "id": "b1686493-48bb-47f1-b3c9-75994816b277",
   "metadata": {},
   "source": [
    "Example:\n",
    "\n",
    "*Expected output for n = 14:*\n",
    "\n",
    "*Fibonacci sequence: [1, 1, 2, 3, 5, 8, 13, 21, 34, 55, 89, 144, 233, 377]*"
   ]
  },
  {
   "cell_type": "code",
   "execution_count": 222,
   "id": "a1d55cea-96c3-4853-8220-17c0904a8816",
   "metadata": {},
   "outputs": [],
   "source": [
    "# your code goes here\n",
    "def fibo_num (n):\n",
    "    \"\"\"\n",
    "    Creates the Fibonacci number at the given position in the Fibonacci Sequence.\n",
    "    \"\"\"\n",
    "    fibo_list = [0,1]\n",
    "    \n",
    "    if n < 2:\n",
    "        return  fibo_list[n]\n",
    "\n",
    "    else:\n",
    "        while len(fibo_list) <= n:\n",
    "            sum_n1_n2 = fibo_list[-2] + fibo_list[-1]\n",
    "\n",
    "            fibo_list.append(sum_n1_n2)\n",
    "    return fibo_list[-1]\n",
    "\n",
    "\n",
    "def fibo_seq (n):\n",
    "    \"\"\"\n",
    "    Creates the Fibonacci sequence up to the given position.\n",
    "    \"\"\"\n",
    "    return [fibo_num(i+1) for i in range(n)]"
   ]
  },
  {
   "cell_type": "code",
   "execution_count": 234,
   "id": "de59969f-b32f-454e-a816-431cd38e2db1",
   "metadata": {},
   "outputs": [
    {
     "data": {
      "text/plain": [
       "233"
      ]
     },
     "execution_count": 234,
     "metadata": {},
     "output_type": "execute_result"
    }
   ],
   "source": [
    "fibo_num(13)"
   ]
  },
  {
   "cell_type": "code",
   "execution_count": 232,
   "id": "1b4ec27b-fd2c-438c-9681-54decef83f13",
   "metadata": {},
   "outputs": [
    {
     "data": {
      "text/plain": [
       "[1, 1, 2, 3, 5, 8, 13, 21, 34, 55, 89, 144, 233]"
      ]
     },
     "execution_count": 232,
     "metadata": {},
     "output_type": "execute_result"
    }
   ],
   "source": [
    "fibo_seq(13)"
   ]
  },
  {
   "cell_type": "code",
   "execution_count": null,
   "id": "25f93e5f-089d-4007-bc79-2fe22f137b85",
   "metadata": {},
   "outputs": [],
   "source": []
  }
 ],
 "metadata": {
  "kernelspec": {
   "display_name": "Python 3 (ipykernel)",
   "language": "python",
   "name": "python3"
  },
  "language_info": {
   "codemirror_mode": {
    "name": "ipython",
    "version": 3
   },
   "file_extension": ".py",
   "mimetype": "text/x-python",
   "name": "python",
   "nbconvert_exporter": "python",
   "pygments_lexer": "ipython3",
   "version": "3.12.4"
  }
 },
 "nbformat": 4,
 "nbformat_minor": 5
}
